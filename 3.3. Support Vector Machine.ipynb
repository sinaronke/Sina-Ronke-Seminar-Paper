{
 "cells": [
  {
   "cell_type": "code",
   "execution_count": 1,
   "id": "2201a517",
   "metadata": {},
   "outputs": [],
   "source": [
    "import pandas as pd\n",
    "from sklearn.model_selection import train_test_split\n",
    "from sklearn.metrics import accuracy_score, classification_report, precision_score, recall_score\n",
    "from sklearn.metrics import confusion_matrix, ConfusionMatrixDisplay, f1_score"
   ]
  },
  {
   "cell_type": "code",
   "execution_count": 2,
   "id": "d658cf87",
   "metadata": {},
   "outputs": [],
   "source": [
    "# Define all relevant features within an array\n",
    "# Features can be selected to improve the accuracy of the model\n",
    "feature_selection = [\n",
    "    \"Switch ID\", \n",
    "    \"Port Number\", \n",
    "    \"Received Packets\", \n",
    "    \"Received Bytes\", \n",
    "    \"Sent Bytes\", \n",
    "    \"Sent Packets\", \n",
    "    \"Port alive Duration (S)\", \n",
    "    \"Delta Received Packets\", \n",
    "    \"Delta Received Bytes\", \n",
    "    \"Delta Sent Bytes\", \n",
    "    \"Delta Sent Packets\", \n",
    "    \"Delta Port alive Duration (S)\", \n",
    "    \"Connection Point\", \n",
    "    \"Total Load/Rate\", \n",
    "    \"Total Load/Latest\", \n",
    "    \"Unknown Load/Rate\", \n",
    "    \"Unknown Load/Latest\", \n",
    "    \"Latest bytes counter\", \n",
    "    \"Active Flow Entries\", \n",
    "    \"Packets Looked Up\", \n",
    "    \"Packets Matched\"\n",
    "]"
   ]
  },
  {
   "cell_type": "code",
   "execution_count": 3,
   "id": "cfd572ec",
   "metadata": {
    "scrolled": true
   },
   "outputs": [
    {
     "data": {
      "text/html": [
       "<div>\n",
       "<style scoped>\n",
       "    .dataframe tbody tr th:only-of-type {\n",
       "        vertical-align: middle;\n",
       "    }\n",
       "\n",
       "    .dataframe tbody tr th {\n",
       "        vertical-align: top;\n",
       "    }\n",
       "\n",
       "    .dataframe thead th {\n",
       "        text-align: right;\n",
       "    }\n",
       "</style>\n",
       "<table border=\"1\" class=\"dataframe\">\n",
       "  <thead>\n",
       "    <tr style=\"text-align: right;\">\n",
       "      <th></th>\n",
       "      <th>Switch ID</th>\n",
       "      <th>Port Number</th>\n",
       "      <th>Received Packets</th>\n",
       "      <th>Received Bytes</th>\n",
       "      <th>Sent Bytes</th>\n",
       "      <th>Sent Packets</th>\n",
       "      <th>Port alive Duration (S)</th>\n",
       "      <th>Delta Received Packets</th>\n",
       "      <th>Delta Received Bytes</th>\n",
       "      <th>Delta Sent Bytes</th>\n",
       "      <th>...</th>\n",
       "      <th>Total Load/Rate</th>\n",
       "      <th>Total Load/Latest</th>\n",
       "      <th>Unknown Load/Rate</th>\n",
       "      <th>Unknown Load/Latest</th>\n",
       "      <th>Latest bytes counter</th>\n",
       "      <th>Active Flow Entries</th>\n",
       "      <th>Packets Looked Up</th>\n",
       "      <th>Packets Matched</th>\n",
       "      <th>Label</th>\n",
       "      <th>Binary Label</th>\n",
       "    </tr>\n",
       "  </thead>\n",
       "  <tbody>\n",
       "    <tr>\n",
       "      <th>0</th>\n",
       "      <td>12</td>\n",
       "      <td>1</td>\n",
       "      <td>132</td>\n",
       "      <td>9181</td>\n",
       "      <td>6311853</td>\n",
       "      <td>238</td>\n",
       "      <td>46</td>\n",
       "      <td>0</td>\n",
       "      <td>0</td>\n",
       "      <td>280</td>\n",
       "      <td>...</td>\n",
       "      <td>0</td>\n",
       "      <td>0</td>\n",
       "      <td>0</td>\n",
       "      <td>0</td>\n",
       "      <td>0</td>\n",
       "      <td>9</td>\n",
       "      <td>767</td>\n",
       "      <td>688</td>\n",
       "      <td>6</td>\n",
       "      <td>1</td>\n",
       "    </tr>\n",
       "    <tr>\n",
       "      <th>1</th>\n",
       "      <td>12</td>\n",
       "      <td>2</td>\n",
       "      <td>187</td>\n",
       "      <td>6304498</td>\n",
       "      <td>15713</td>\n",
       "      <td>171</td>\n",
       "      <td>46</td>\n",
       "      <td>146</td>\n",
       "      <td>5908166</td>\n",
       "      <td>5969</td>\n",
       "      <td>...</td>\n",
       "      <td>0</td>\n",
       "      <td>0</td>\n",
       "      <td>0</td>\n",
       "      <td>0</td>\n",
       "      <td>0</td>\n",
       "      <td>9</td>\n",
       "      <td>767</td>\n",
       "      <td>688</td>\n",
       "      <td>6</td>\n",
       "      <td>1</td>\n",
       "    </tr>\n",
       "    <tr>\n",
       "      <th>2</th>\n",
       "      <td>12</td>\n",
       "      <td>3</td>\n",
       "      <td>235</td>\n",
       "      <td>6311567</td>\n",
       "      <td>8030</td>\n",
       "      <td>58</td>\n",
       "      <td>46</td>\n",
       "      <td>2</td>\n",
       "      <td>278</td>\n",
       "      <td>280</td>\n",
       "      <td>...</td>\n",
       "      <td>0</td>\n",
       "      <td>0</td>\n",
       "      <td>0</td>\n",
       "      <td>0</td>\n",
       "      <td>0</td>\n",
       "      <td>9</td>\n",
       "      <td>767</td>\n",
       "      <td>688</td>\n",
       "      <td>6</td>\n",
       "      <td>1</td>\n",
       "    </tr>\n",
       "    <tr>\n",
       "      <th>3</th>\n",
       "      <td>12</td>\n",
       "      <td>4</td>\n",
       "      <td>59</td>\n",
       "      <td>7878</td>\n",
       "      <td>16439</td>\n",
       "      <td>182</td>\n",
       "      <td>46</td>\n",
       "      <td>2</td>\n",
       "      <td>278</td>\n",
       "      <td>280</td>\n",
       "      <td>...</td>\n",
       "      <td>0</td>\n",
       "      <td>0</td>\n",
       "      <td>0</td>\n",
       "      <td>0</td>\n",
       "      <td>0</td>\n",
       "      <td>9</td>\n",
       "      <td>767</td>\n",
       "      <td>688</td>\n",
       "      <td>6</td>\n",
       "      <td>1</td>\n",
       "    </tr>\n",
       "    <tr>\n",
       "      <th>4</th>\n",
       "      <td>10</td>\n",
       "      <td>1</td>\n",
       "      <td>188</td>\n",
       "      <td>6304547</td>\n",
       "      <td>16497</td>\n",
       "      <td>183</td>\n",
       "      <td>46</td>\n",
       "      <td>0</td>\n",
       "      <td>0</td>\n",
       "      <td>280</td>\n",
       "      <td>...</td>\n",
       "      <td>0</td>\n",
       "      <td>0</td>\n",
       "      <td>0</td>\n",
       "      <td>0</td>\n",
       "      <td>0</td>\n",
       "      <td>7</td>\n",
       "      <td>489</td>\n",
       "      <td>403</td>\n",
       "      <td>6</td>\n",
       "      <td>1</td>\n",
       "    </tr>\n",
       "  </tbody>\n",
       "</table>\n",
       "<p>5 rows × 23 columns</p>\n",
       "</div>"
      ],
      "text/plain": [
       "   Switch ID  Port Number  Received Packets  Received Bytes  Sent Bytes  \\\n",
       "0         12            1               132            9181     6311853   \n",
       "1         12            2               187         6304498       15713   \n",
       "2         12            3               235         6311567        8030   \n",
       "3         12            4                59            7878       16439   \n",
       "4         10            1               188         6304547       16497   \n",
       "\n",
       "   Sent Packets  Port alive Duration (S)  Delta Received Packets  \\\n",
       "0           238                       46                       0   \n",
       "1           171                       46                     146   \n",
       "2            58                       46                       2   \n",
       "3           182                       46                       2   \n",
       "4           183                       46                       0   \n",
       "\n",
       "   Delta Received Bytes  Delta Sent Bytes  ...  Total Load/Rate  \\\n",
       "0                     0               280  ...                0   \n",
       "1               5908166              5969  ...                0   \n",
       "2                   278               280  ...                0   \n",
       "3                   278               280  ...                0   \n",
       "4                     0               280  ...                0   \n",
       "\n",
       "   Total Load/Latest  Unknown Load/Rate  Unknown Load/Latest  \\\n",
       "0                  0                  0                    0   \n",
       "1                  0                  0                    0   \n",
       "2                  0                  0                    0   \n",
       "3                  0                  0                    0   \n",
       "4                  0                  0                    0   \n",
       "\n",
       "   Latest bytes counter  Active Flow Entries  Packets Looked Up  \\\n",
       "0                     0                    9                767   \n",
       "1                     0                    9                767   \n",
       "2                     0                    9                767   \n",
       "3                     0                    9                767   \n",
       "4                     0                    7                489   \n",
       "\n",
       "   Packets Matched  Label  Binary Label  \n",
       "0              688      6             1  \n",
       "1              688      6             1  \n",
       "2              688      6             1  \n",
       "3              688      6             1  \n",
       "4              403      6             1  \n",
       "\n",
       "[5 rows x 23 columns]"
      ]
     },
     "execution_count": 3,
     "metadata": {},
     "output_type": "execute_result"
    }
   ],
   "source": [
    "#Import Cleaned UNR IDD Dataset with Network traffic\n",
    "#Explore information about Data\n",
    "#Label/Attacks are labeled with numbers\n",
    "\n",
    "#\"Blackhole\" = 1, \"Diversion\"= 2, \"Normal\"= 3,\"Overflow\"= 4, \"PortScan\"= 5, \"TCP-SYN\"= 6\n",
    "\n",
    "#Binary Label is labeled: \"Attack\" = 1, \"Normal\" = 2\n",
    "\n",
    "df = pd.read_csv(\"/Users/sinaronke/Predict Binary Label (Attack or Normal)/UNR_IDD_cleaned.csv\")\n",
    "df.head()"
   ]
  },
  {
   "cell_type": "code",
   "execution_count": 4,
   "id": "b2280ffd",
   "metadata": {},
   "outputs": [],
   "source": [
    "#Pending variable y with \"Binary Label\" (only 1 pending variable possible)\n",
    "#Delete \"Label\" is necessary to predict \"Binary Label\" as y target\n",
    "df = df.drop(\"Label\", axis=1)"
   ]
  },
  {
   "cell_type": "code",
   "execution_count": 5,
   "id": "4a1309c0",
   "metadata": {
    "scrolled": true
   },
   "outputs": [
    {
     "data": {
      "text/plain": [
       "1    33453\n",
       "2     3723\n",
       "Name: Binary Label, dtype: int64"
      ]
     },
     "execution_count": 5,
     "metadata": {},
     "output_type": "execute_result"
    }
   ],
   "source": [
    "#\"Attack\" = 1, \"Normal\" = 2\n",
    "df[\"Binary Label\"].value_counts(dropna=False)"
   ]
  },
  {
   "cell_type": "code",
   "execution_count": 6,
   "id": "69972ddc",
   "metadata": {},
   "outputs": [],
   "source": [
    "#Define X for features to train the model and define y as target for predicition\n",
    "X = df[feature_selection]\n",
    "y = df[\"Binary Label\"]"
   ]
  },
  {
   "cell_type": "code",
   "execution_count": 7,
   "id": "514bbd56",
   "metadata": {},
   "outputs": [
    {
     "name": "stdout",
     "output_type": "stream",
     "text": [
      "X_train: (27882, 21)  y_train: (27882,)\n",
      "X_test: (9294, 21)  y_test: (9294,)\n"
     ]
    }
   ],
   "source": [
    "#Split the data in training and test: ca. 1/3 test, 2/3 training data with test_size=None\n",
    "#Random state = 42 everytime the same split: Necessary for comparability of models\n",
    "X_train, X_test, y_train, y_test = train_test_split(X, y, test_size=None, random_state=42)\n",
    "\n",
    "print('X_train:', X_train.shape, ' y_train:', y_train.shape)\n",
    "print('X_test:', X_test.shape, ' y_test:', y_test.shape)"
   ]
  },
  {
   "cell_type": "code",
   "execution_count": 8,
   "id": "163ea2e1",
   "metadata": {
    "scrolled": false
   },
   "outputs": [
    {
     "data": {
      "text/html": [
       "<div>\n",
       "<style scoped>\n",
       "    .dataframe tbody tr th:only-of-type {\n",
       "        vertical-align: middle;\n",
       "    }\n",
       "\n",
       "    .dataframe tbody tr th {\n",
       "        vertical-align: top;\n",
       "    }\n",
       "\n",
       "    .dataframe thead th {\n",
       "        text-align: right;\n",
       "    }\n",
       "</style>\n",
       "<table border=\"1\" class=\"dataframe\">\n",
       "  <thead>\n",
       "    <tr style=\"text-align: right;\">\n",
       "      <th></th>\n",
       "      <th>Switch ID</th>\n",
       "      <th>Port Number</th>\n",
       "      <th>Received Packets</th>\n",
       "      <th>Received Bytes</th>\n",
       "      <th>Sent Bytes</th>\n",
       "      <th>Sent Packets</th>\n",
       "      <th>Port alive Duration (S)</th>\n",
       "      <th>Delta Received Packets</th>\n",
       "      <th>Delta Received Bytes</th>\n",
       "      <th>Delta Sent Bytes</th>\n",
       "      <th>...</th>\n",
       "      <th>Connection Point</th>\n",
       "      <th>Total Load/Rate</th>\n",
       "      <th>Total Load/Latest</th>\n",
       "      <th>Unknown Load/Rate</th>\n",
       "      <th>Unknown Load/Latest</th>\n",
       "      <th>Latest bytes counter</th>\n",
       "      <th>Active Flow Entries</th>\n",
       "      <th>Packets Looked Up</th>\n",
       "      <th>Packets Matched</th>\n",
       "      <th>Binary Label</th>\n",
       "    </tr>\n",
       "    <tr>\n",
       "      <th>Binary Label</th>\n",
       "      <th></th>\n",
       "      <th></th>\n",
       "      <th></th>\n",
       "      <th></th>\n",
       "      <th></th>\n",
       "      <th></th>\n",
       "      <th></th>\n",
       "      <th></th>\n",
       "      <th></th>\n",
       "      <th></th>\n",
       "      <th></th>\n",
       "      <th></th>\n",
       "      <th></th>\n",
       "      <th></th>\n",
       "      <th></th>\n",
       "      <th></th>\n",
       "      <th></th>\n",
       "      <th></th>\n",
       "      <th></th>\n",
       "      <th></th>\n",
       "      <th></th>\n",
       "    </tr>\n",
       "  </thead>\n",
       "  <tbody>\n",
       "    <tr>\n",
       "      <th>1.0</th>\n",
       "      <td>8347</td>\n",
       "      <td>8347</td>\n",
       "      <td>8347</td>\n",
       "      <td>8347</td>\n",
       "      <td>8347</td>\n",
       "      <td>8347</td>\n",
       "      <td>8347</td>\n",
       "      <td>8347</td>\n",
       "      <td>8347</td>\n",
       "      <td>8347</td>\n",
       "      <td>...</td>\n",
       "      <td>8347</td>\n",
       "      <td>8347</td>\n",
       "      <td>8347</td>\n",
       "      <td>8347</td>\n",
       "      <td>8347</td>\n",
       "      <td>8347</td>\n",
       "      <td>8347</td>\n",
       "      <td>8347</td>\n",
       "      <td>8347</td>\n",
       "      <td>8347</td>\n",
       "    </tr>\n",
       "    <tr>\n",
       "      <th>2.0</th>\n",
       "      <td>947</td>\n",
       "      <td>947</td>\n",
       "      <td>947</td>\n",
       "      <td>947</td>\n",
       "      <td>947</td>\n",
       "      <td>947</td>\n",
       "      <td>947</td>\n",
       "      <td>947</td>\n",
       "      <td>947</td>\n",
       "      <td>947</td>\n",
       "      <td>...</td>\n",
       "      <td>947</td>\n",
       "      <td>947</td>\n",
       "      <td>947</td>\n",
       "      <td>947</td>\n",
       "      <td>947</td>\n",
       "      <td>947</td>\n",
       "      <td>947</td>\n",
       "      <td>947</td>\n",
       "      <td>947</td>\n",
       "      <td>947</td>\n",
       "    </tr>\n",
       "  </tbody>\n",
       "</table>\n",
       "<p>2 rows × 22 columns</p>\n",
       "</div>"
      ],
      "text/plain": [
       "              Switch ID  Port Number  Received Packets  Received Bytes  \\\n",
       "Binary Label                                                             \n",
       "1.0                8347         8347              8347            8347   \n",
       "2.0                 947          947               947             947   \n",
       "\n",
       "              Sent Bytes  Sent Packets  Port alive Duration (S)  \\\n",
       "Binary Label                                                      \n",
       "1.0                 8347          8347                     8347   \n",
       "2.0                  947           947                      947   \n",
       "\n",
       "              Delta Received Packets  Delta Received Bytes  Delta Sent Bytes  \\\n",
       "Binary Label                                                                   \n",
       "1.0                             8347                  8347              8347   \n",
       "2.0                              947                   947               947   \n",
       "\n",
       "              ...  Connection Point  Total Load/Rate  Total Load/Latest  \\\n",
       "Binary Label  ...                                                         \n",
       "1.0           ...              8347             8347               8347   \n",
       "2.0           ...               947              947                947   \n",
       "\n",
       "              Unknown Load/Rate  Unknown Load/Latest  Latest bytes counter  \\\n",
       "Binary Label                                                                 \n",
       "1.0                        8347                 8347                  8347   \n",
       "2.0                         947                  947                   947   \n",
       "\n",
       "              Active Flow Entries  Packets Looked Up  Packets Matched  \\\n",
       "Binary Label                                                            \n",
       "1.0                          8347               8347             8347   \n",
       "2.0                           947                947              947   \n",
       "\n",
       "              Binary Label  \n",
       "Binary Label                \n",
       "1.0                   8347  \n",
       "2.0                    947  \n",
       "\n",
       "[2 rows x 22 columns]"
      ]
     },
     "execution_count": 8,
     "metadata": {},
     "output_type": "execute_result"
    }
   ],
   "source": [
    "#Check if dataframe splitting is random for test and training data\n",
    "df.groupby(y_train).count()\n",
    "df.groupby(y_test).count()"
   ]
  },
  {
   "cell_type": "code",
   "execution_count": 9,
   "id": "539c9224",
   "metadata": {},
   "outputs": [
    {
     "data": {
      "text/plain": [
       "SVC(probability=True)"
      ]
     },
     "execution_count": 9,
     "metadata": {},
     "output_type": "execute_result"
    }
   ],
   "source": [
    "#Support Vector Machine as a classification algorithm\n",
    "from sklearn import svm\n",
    "svm_clf = svm.SVC(probability=True)\n",
    "svm_clf.fit(X_train.values, y_train)"
   ]
  },
  {
   "cell_type": "code",
   "execution_count": 10,
   "id": "293ba30c",
   "metadata": {
    "scrolled": true
   },
   "outputs": [
    {
     "name": "stdout",
     "output_type": "stream",
     "text": [
      "Accuracy Score 0.9163976759199484\n"
     ]
    }
   ],
   "source": [
    "y_pred = svm_clf.predict(X_test.values)\n",
    "#Accuracy Score of predicted values in model if it is normal or attack\n",
    "print(\"Accuracy Score \" +str(accuracy_score(y_test, y_pred)))"
   ]
  },
  {
   "cell_type": "code",
   "execution_count": 11,
   "id": "7f154484",
   "metadata": {},
   "outputs": [
    {
     "name": "stdout",
     "output_type": "stream",
     "text": [
      "Number of mislabeled points out of a total 9294 points : 777\n"
     ]
    }
   ],
   "source": [
    "#Show how many predictions are wrong \n",
    "print(\"Number of mislabeled points out of a total %d points : %d\"\n",
    "      % (X_test.shape[0], (y_test != y_pred).sum()))"
   ]
  },
  {
   "cell_type": "code",
   "execution_count": 12,
   "id": "7ec442ea",
   "metadata": {
    "scrolled": false
   },
   "outputs": [
    {
     "data": {
      "text/plain": [
       "<sklearn.metrics._plot.confusion_matrix.ConfusionMatrixDisplay at 0x7febe60c3370>"
      ]
     },
     "execution_count": 12,
     "metadata": {},
     "output_type": "execute_result"
    },
    {
     "data": {
      "image/png": "[encoded data removed]",
      "text/plain": [
       "<Figure size 640x480 with 2 Axes>"
      ]
     },
     "metadata": {},
     "output_type": "display_data"
    }
   ],
   "source": [
    "#Confusion Matrix shows \n",
    "#\"Attack\" = 1 = negative\n",
    "#\"Normal\" = 2 = positive\n",
    "\n",
    "#Left upper side: true negative (tn) - predicted as attack – real attack\n",
    "#Left lower side: false negative (fn) -predicted as attack – real normal - 747 real normal predicted as attack\n",
    "#Right upper side: false positive (fp) - predicted as normal – real attack - 30 real attack predicted as normal\n",
    "#Right lower side: true positive (tp) - predicted as normal – real normal\n",
    "\n",
    "cm = confusion_matrix(y_test, y_pred)\n",
    "cmd = ConfusionMatrixDisplay(cm, display_labels=['Attack', 'Normal'])\n",
    "cmd.plot()"
   ]
  },
  {
   "cell_type": "code",
   "execution_count": 13,
   "id": "4aa25fa4",
   "metadata": {},
   "outputs": [
    {
     "data": {
      "text/plain": [
       "(8317, 30, 747, 200)"
      ]
     },
     "execution_count": 13,
     "metadata": {},
     "output_type": "execute_result"
    }
   ],
   "source": [
    "y_true = y_test\n",
    "\n",
    "tn, fp, fn, tp = confusion_matrix(y_true, y_pred).ravel()\n",
    "tn, fp, fn, tp"
   ]
  },
  {
   "cell_type": "code",
   "execution_count": 14,
   "id": "fecbc024",
   "metadata": {},
   "outputs": [
    {
     "name": "stdout",
     "output_type": "stream",
     "text": [
      "Precision: 0.8695652173913043\n"
     ]
    }
   ],
   "source": [
    "#Precision score measure the correct predicted normal (positive) rate from overall data\n",
    "print(\"Precision: \" +str(precision_score(y_true, y_pred, pos_label=2))) #pos_label 2 defined for normal\n",
    "#p = (tp / (tp + fp))"
   ]
  },
  {
   "cell_type": "code",
   "execution_count": 15,
   "id": "3451c644",
   "metadata": {},
   "outputs": [
    {
     "name": "stdout",
     "output_type": "stream",
     "text": [
      "Recall: 0.21119324181626187\n"
     ]
    }
   ],
   "source": [
    "#Recall measures the ability of the classifier to predict real normal as normal\n",
    "print(\"Recall: \" +str(recall_score(y_true, y_pred, pos_label=2))) #pos_label 2 defined for normal\n",
    "#r = tp / (tp + fn)"
   ]
  },
  {
   "cell_type": "code",
   "execution_count": 16,
   "id": "fbec4c2a",
   "metadata": {
    "scrolled": false
   },
   "outputs": [
    {
     "name": "stdout",
     "output_type": "stream",
     "text": [
      "F1 Score: 0.3398470688190315\n"
     ]
    }
   ],
   "source": [
    "#F1 Score interpreted as a harmonic mean of the precision and recall. Value between 0 (worst) and 1 (best)\n",
    "print(\"F1 Score: \" +str(f1_score(y_test, y_pred, pos_label=2))) #pos_label 2 defined for normal\n",
    "#\"F1 Score = (2 * ((p*r) / (p+r))))"
   ]
  },
  {
   "cell_type": "code",
   "execution_count": 17,
   "id": "2657c064",
   "metadata": {},
   "outputs": [
    {
     "name": "stdout",
     "output_type": "stream",
     "text": [
      "False Positive Rate: 0.003594105666706593\n"
     ]
    }
   ],
   "source": [
    "#False positive rate shows how often the model predict normal when it is an real attack\n",
    "tnr = recall_score(y_true, y_pred, pos_label = 1) # pos_label 1 defined for attack\n",
    "fpr = 1 - tnr\n",
    "print(\"False Positive Rate: \" + str(fpr))"
   ]
  },
  {
   "cell_type": "code",
   "execution_count": null,
   "id": "71eb40a3",
   "metadata": {},
   "outputs": [],
   "source": []
  },
  {
   "cell_type": "code",
   "execution_count": null,
   "id": "77ba0729",
   "metadata": {},
   "outputs": [],
   "source": []
  }
 ],
 "metadata": {
  "kernelspec": {
   "display_name": "Python 3 (ipykernel)",
   "language": "python",
   "name": "python3"
  },
  "language_info": {
   "codemirror_mode": {
    "name": "ipython",
    "version": 3
   },
   "file_extension": ".py",
   "mimetype": "text/x-python",
   "name": "python",
   "nbconvert_exporter": "python",
   "pygments_lexer": "ipython3",
   "version": "3.9.13"
  }
 },
 "nbformat": 4,
 "nbformat_minor": 5
}
